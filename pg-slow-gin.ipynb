{
 "cells": [
  {
   "cell_type": "code",
   "execution_count": 1,
   "metadata": {
    "collapsed": true
   },
   "outputs": [
    {
     "name": "stdout",
     "output_type": "stream",
     "text": [
      "Requirement already satisfied: psycopg2-binary in /usr/local/lib/python3.7/site-packages (2.7.5)\n",
      "Requirement already satisfied: pandas in /usr/local/lib/python3.7/site-packages (0.23.4)\n",
      "Requirement already satisfied: pytz>=2011k in /usr/local/lib/python3.7/site-packages (from pandas) (2018.5)\n",
      "Requirement already satisfied: python-dateutil>=2.5.0 in /usr/local/lib/python3.7/site-packages (from pandas) (2.7.3)\n",
      "Requirement already satisfied: numpy>=1.9.0 in /usr/local/lib/python3.7/site-packages (from pandas) (1.15.1)\n",
      "Requirement already satisfied: six>=1.5 in /usr/local/lib/python3.7/site-packages (from python-dateutil>=2.5.0->pandas) (1.11.0)\n",
      "Requirement already satisfied: matplotlib in /usr/local/lib/python3.7/site-packages (2.2.3)\n",
      "Requirement already satisfied: python-dateutil>=2.1 in /usr/local/lib/python3.7/site-packages (from matplotlib) (2.7.3)\n",
      "Requirement already satisfied: numpy>=1.7.1 in /usr/local/lib/python3.7/site-packages (from matplotlib) (1.15.1)\n",
      "Requirement already satisfied: six>=1.10 in /usr/local/lib/python3.7/site-packages (from matplotlib) (1.11.0)\n",
      "Requirement already satisfied: cycler>=0.10 in /usr/local/lib/python3.7/site-packages (from matplotlib) (0.10.0)\n",
      "Requirement already satisfied: pytz in /usr/local/lib/python3.7/site-packages (from matplotlib) (2018.5)\n",
      "Requirement already satisfied: pyparsing!=2.0.4,!=2.1.2,!=2.1.6,>=2.0.1 in /usr/local/lib/python3.7/site-packages (from matplotlib) (2.2.0)\n",
      "Requirement already satisfied: kiwisolver>=1.0.1 in /usr/local/lib/python3.7/site-packages (from matplotlib) (1.0.1)\n",
      "Requirement already satisfied: setuptools in /usr/local/lib/python3.7/site-packages (from kiwisolver>=1.0.1->matplotlib) (40.0.0)\n",
      "Requirement already satisfied: numpy in /usr/local/lib/python3.7/site-packages (1.15.1)\n"
     ]
    }
   ],
   "source": [
    "!pip3 install psycopg2-binary\n",
    "!pip3 install pandas\n",
    "!pip3 install matplotlib\n",
    "!pip3 install numpy"
   ]
  },
  {
   "cell_type": "code",
   "execution_count": 2,
   "metadata": {},
   "outputs": [],
   "source": [
    "%matplotlib inline\n",
    "import psycopg2\n",
    "import pandas as pd\n",
    "import re\n",
    "import numpy as np\n",
    "from matplotlib import pyplot as plt\n",
    "pd.set_option('display.max_rows', 20)"
   ]
  },
  {
   "cell_type": "code",
   "execution_count": 3,
   "metadata": {},
   "outputs": [],
   "source": [
    "# point this to your own postgres database if you're not using the supplied docker-compose file\n",
    "pg_dsn = 'postgres://postgres@localhost:9999/postgres'\n",
    "\n",
    "conn = psycopg2.connect(pg_dsn)\n",
    "cur = conn.cursor()\n",
    "# allows us to run non-transactional commands (e.g. VACUUM) below\n",
    "conn.autocommit = True"
   ]
  },
  {
   "cell_type": "code",
   "execution_count": 4,
   "metadata": {},
   "outputs": [],
   "source": [
    "rows = 10000\n",
    "keys_per_row = 3\n",
    "\n",
    "cur.execute(\"\"\"\n",
    "DROP SCHEMA IF EXISTS gin CASCADE;\n",
    "CREATE SCHEMA gin;\n",
    "SET search_path = gin;\n",
    "\n",
    "CREATE TABLE example AS\n",
    "SELECT \n",
    "\ta AS id,\n",
    "\tarray_agg((a-1)*%s+b) AS keys\n",
    "FROM\n",
    "\tgenerate_series(1, %s) a,\n",
    "\tgenerate_series(1, %s) b\n",
    "GROUP BY 1;\n",
    "CREATE INDEX ON example USING GIN (keys);\n",
    "\"\"\", (keys_per_row, rows, keys_per_row))\n",
    "cur.execute('VACUUM ANALYZE example')"
   ]
  },
  {
   "cell_type": "code",
   "execution_count": 5,
   "metadata": {},
   "outputs": [
    {
     "data": {
      "text/html": [
       "<div>\n",
       "<style scoped>\n",
       "    .dataframe tbody tr th:only-of-type {\n",
       "        vertical-align: middle;\n",
       "    }\n",
       "\n",
       "    .dataframe tbody tr th {\n",
       "        vertical-align: top;\n",
       "    }\n",
       "\n",
       "    .dataframe thead th {\n",
       "        text-align: right;\n",
       "    }\n",
       "</style>\n",
       "<table border=\"1\" class=\"dataframe\">\n",
       "  <thead>\n",
       "    <tr style=\"text-align: right;\">\n",
       "      <th></th>\n",
       "      <th>id</th>\n",
       "      <th>keys</th>\n",
       "    </tr>\n",
       "  </thead>\n",
       "  <tbody>\n",
       "    <tr>\n",
       "      <th>0</th>\n",
       "      <td>1</td>\n",
       "      <td>[1, 2, 3]</td>\n",
       "    </tr>\n",
       "    <tr>\n",
       "      <th>1</th>\n",
       "      <td>2</td>\n",
       "      <td>[4, 5, 6]</td>\n",
       "    </tr>\n",
       "    <tr>\n",
       "      <th>2</th>\n",
       "      <td>3</td>\n",
       "      <td>[7, 8, 9]</td>\n",
       "    </tr>\n",
       "    <tr>\n",
       "      <th>3</th>\n",
       "      <td>4</td>\n",
       "      <td>[10, 11, 12]</td>\n",
       "    </tr>\n",
       "    <tr>\n",
       "      <th>4</th>\n",
       "      <td>5</td>\n",
       "      <td>[13, 14, 15]</td>\n",
       "    </tr>\n",
       "  </tbody>\n",
       "</table>\n",
       "</div>"
      ],
      "text/plain": [
       "   id          keys\n",
       "0   1     [1, 2, 3]\n",
       "1   2     [4, 5, 6]\n",
       "2   3     [7, 8, 9]\n",
       "3   4  [10, 11, 12]\n",
       "4   5  [13, 14, 15]"
      ]
     },
     "execution_count": 5,
     "metadata": {},
     "output_type": "execute_result"
    }
   ],
   "source": [
    "pd.read_sql_query('SELECT * from example ORDER BY id ASC LIMIT 5', con=conn)"
   ]
  },
  {
   "cell_type": "code",
   "execution_count": 6,
   "metadata": {},
   "outputs": [
    {
     "name": "stdout",
     "output_type": "stream",
     "text": [
      "Bitmap Heap Scan on example  (cost=54.30..142.00 rows=296 width=37) (actual time=0.043..0.053 rows=2 loops=1)\n",
      "  Recheck Cond: (keys && '{1,2,3,4,5,6}'::integer[])\n",
      "  Heap Blocks: exact=2\n",
      "  ->  Bitmap Index Scan on example_keys_idx  (cost=0.00..54.22 rows=296 width=0) (actual time=0.027..0.027 rows=2 loops=1)\n",
      "        Index Cond: (keys && '{1,2,3,4,5,6}'::integer[])\n",
      "Planning time: 0.120 ms\n",
      "Execution time: 0.132 ms\n"
     ]
    }
   ],
   "source": [
    "cur.execute(\"EXPLAIN ANALYZE SELECT * FROM example WHERE keys && ARRAY[1,2,3,4,5,6]\")\n",
    "print('\\n'.join([x[0] for x in cur.fetchall()]))"
   ]
  },
  {
   "cell_type": "code",
   "execution_count": 7,
   "metadata": {},
   "outputs": [],
   "source": [
    "# Force the query planner to use our gin index, even if it would prefer a seqscan\n",
    "cur.execute(\"SET enable_seqscan=false\")\n",
    "\n",
    "step = 100\n",
    "steps = 100\n",
    "results = []\n",
    "for p in range(steps):\n",
    "    keys = [k+1 for k in range(step * (p+1))]\n",
    "    cur.execute(\"EXPLAIN ANALYZE SELECT * FROM example WHERE keys && %s\", (keys,))\n",
    "    plan = '\\n'.join([x[0] for x in cur.fetchall()])\n",
    "    \n",
    "    # make sure all our queries used our index\n",
    "    if plan.find('Index Scan') < 0:\n",
    "        raise Exception(\"unexpected query plan\")\n",
    "\n",
    "    time = float(re.search('Execution time: ([0-9.]+)', plan)[1])\n",
    "    result = (len(keys), time)\n",
    "    results.append(result)"
   ]
  },
  {
   "cell_type": "code",
   "execution_count": 8,
   "metadata": {},
   "outputs": [
    {
     "data": {
      "text/html": [
       "<div>\n",
       "<style scoped>\n",
       "    .dataframe tbody tr th:only-of-type {\n",
       "        vertical-align: middle;\n",
       "    }\n",
       "\n",
       "    .dataframe tbody tr th {\n",
       "        vertical-align: top;\n",
       "    }\n",
       "\n",
       "    .dataframe thead th {\n",
       "        text-align: right;\n",
       "    }\n",
       "</style>\n",
       "<table border=\"1\" class=\"dataframe\">\n",
       "  <thead>\n",
       "    <tr style=\"text-align: right;\">\n",
       "      <th></th>\n",
       "      <th>keys</th>\n",
       "      <th>time</th>\n",
       "    </tr>\n",
       "  </thead>\n",
       "  <tbody>\n",
       "    <tr>\n",
       "      <th>0</th>\n",
       "      <td>100</td>\n",
       "      <td>0.502</td>\n",
       "    </tr>\n",
       "    <tr>\n",
       "      <th>1</th>\n",
       "      <td>200</td>\n",
       "      <td>1.235</td>\n",
       "    </tr>\n",
       "    <tr>\n",
       "      <th>2</th>\n",
       "      <td>300</td>\n",
       "      <td>2.119</td>\n",
       "    </tr>\n",
       "    <tr>\n",
       "      <th>3</th>\n",
       "      <td>400</td>\n",
       "      <td>3.911</td>\n",
       "    </tr>\n",
       "    <tr>\n",
       "      <th>4</th>\n",
       "      <td>500</td>\n",
       "      <td>5.734</td>\n",
       "    </tr>\n",
       "    <tr>\n",
       "      <th>5</th>\n",
       "      <td>600</td>\n",
       "      <td>8.133</td>\n",
       "    </tr>\n",
       "    <tr>\n",
       "      <th>6</th>\n",
       "      <td>700</td>\n",
       "      <td>10.909</td>\n",
       "    </tr>\n",
       "    <tr>\n",
       "      <th>7</th>\n",
       "      <td>800</td>\n",
       "      <td>14.337</td>\n",
       "    </tr>\n",
       "    <tr>\n",
       "      <th>8</th>\n",
       "      <td>900</td>\n",
       "      <td>13.112</td>\n",
       "    </tr>\n",
       "    <tr>\n",
       "      <th>9</th>\n",
       "      <td>1000</td>\n",
       "      <td>16.135</td>\n",
       "    </tr>\n",
       "    <tr>\n",
       "      <th>...</th>\n",
       "      <td>...</td>\n",
       "      <td>...</td>\n",
       "    </tr>\n",
       "    <tr>\n",
       "      <th>90</th>\n",
       "      <td>9100</td>\n",
       "      <td>796.509</td>\n",
       "    </tr>\n",
       "    <tr>\n",
       "      <th>91</th>\n",
       "      <td>9200</td>\n",
       "      <td>943.175</td>\n",
       "    </tr>\n",
       "    <tr>\n",
       "      <th>92</th>\n",
       "      <td>9300</td>\n",
       "      <td>847.692</td>\n",
       "    </tr>\n",
       "    <tr>\n",
       "      <th>93</th>\n",
       "      <td>9400</td>\n",
       "      <td>856.437</td>\n",
       "    </tr>\n",
       "    <tr>\n",
       "      <th>94</th>\n",
       "      <td>9500</td>\n",
       "      <td>824.935</td>\n",
       "    </tr>\n",
       "    <tr>\n",
       "      <th>95</th>\n",
       "      <td>9600</td>\n",
       "      <td>861.444</td>\n",
       "    </tr>\n",
       "    <tr>\n",
       "      <th>96</th>\n",
       "      <td>9700</td>\n",
       "      <td>868.192</td>\n",
       "    </tr>\n",
       "    <tr>\n",
       "      <th>97</th>\n",
       "      <td>9800</td>\n",
       "      <td>865.957</td>\n",
       "    </tr>\n",
       "    <tr>\n",
       "      <th>98</th>\n",
       "      <td>9900</td>\n",
       "      <td>877.646</td>\n",
       "    </tr>\n",
       "    <tr>\n",
       "      <th>99</th>\n",
       "      <td>10000</td>\n",
       "      <td>957.669</td>\n",
       "    </tr>\n",
       "  </tbody>\n",
       "</table>\n",
       "<p>100 rows × 2 columns</p>\n",
       "</div>"
      ],
      "text/plain": [
       "     keys     time\n",
       "0     100    0.502\n",
       "1     200    1.235\n",
       "2     300    2.119\n",
       "3     400    3.911\n",
       "4     500    5.734\n",
       "5     600    8.133\n",
       "6     700   10.909\n",
       "7     800   14.337\n",
       "8     900   13.112\n",
       "9    1000   16.135\n",
       "..    ...      ...\n",
       "90   9100  796.509\n",
       "91   9200  943.175\n",
       "92   9300  847.692\n",
       "93   9400  856.437\n",
       "94   9500  824.935\n",
       "95   9600  861.444\n",
       "96   9700  868.192\n",
       "97   9800  865.957\n",
       "98   9900  877.646\n",
       "99  10000  957.669\n",
       "\n",
       "[100 rows x 2 columns]"
      ]
     },
     "execution_count": 8,
     "metadata": {},
     "output_type": "execute_result"
    }
   ],
   "source": [
    "df = pd.DataFrame(results, columns=[\"keys\", \"time\"])\n",
    "df"
   ]
  },
  {
   "cell_type": "code",
   "execution_count": 9,
   "metadata": {},
   "outputs": [
    {
     "data": {
      "text/plain": [
       "[<matplotlib.lines.Line2D at 0x116c7a3c8>]"
      ]
     },
     "execution_count": 9,
     "metadata": {},
     "output_type": "execute_result"
    },
    {
     "data": {
      "image/png": "[encoded data removed]",
      "text/plain": [
       "<Figure size 1296x720 with 1 Axes>"
      ]
     },
     "metadata": {
      "needs_background": "light"
     },
     "output_type": "display_data"
    }
   ],
   "source": [
    "# plot our data and also fit a 2nd degree polynomial for illustration purposes\n",
    "coefs = np.polyfit(df['keys'], df['time'], 2)\n",
    "p = np.poly1d(coefs)\n",
    "fig, ax = plt.subplots()\n",
    "fig.set_size_inches((18, 10))\n",
    "ax.plot(df['keys'], df['time'], \"bx\", markersize=5)\n",
    "ax.plot(df['keys'], p(df['keys']), \"r-\") #p(X) evaluates the polynomial at X"
   ]
  }
 ],
 "metadata": {
  "kernelspec": {
   "display_name": "Python 3",
   "language": "python",
   "name": "python3"
  },
  "language_info": {
   "codemirror_mode": {
    "name": "ipython",
    "version": 3
   },
   "file_extension": ".py",
   "mimetype": "text/x-python",
   "name": "python",
   "nbconvert_exporter": "python",
   "pygments_lexer": "ipython3",
   "version": "3.7.0"
  }
 },
 "nbformat": 4,
 "nbformat_minor": 2
}
